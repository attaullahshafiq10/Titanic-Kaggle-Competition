{
 "cells": [
  {
   "cell_type": "markdown",
   "id": "polish-delta",
   "metadata": {
    "papermill": {
     "duration": 0.037616,
     "end_time": "2021-05-11T08:18:08.033743",
     "exception": false,
     "start_time": "2021-05-11T08:18:07.996127",
     "status": "completed"
    },
    "tags": []
   },
   "source": [
    "#  By Using ML to create a model that predicts which passengers survived the Titanic shipwreck."
   ]
  },
  {
   "cell_type": "markdown",
   "id": "varied-contractor",
   "metadata": {
    "papermill": {
     "duration": 0.041633,
     "end_time": "2021-05-11T08:18:08.112689",
     "exception": false,
     "start_time": "2021-05-11T08:18:08.071056",
     "status": "completed"
    },
    "tags": []
   },
   "source": [
    "If you found this notebook helpful or you just liked it , some upvotes would be very much appreciated - That will keep me motivated :)"
   ]
  },
  {
   "cell_type": "markdown",
   "id": "upper-denmark",
   "metadata": {
    "papermill": {
     "duration": 0.042788,
     "end_time": "2021-05-11T08:18:08.201302",
     "exception": false,
     "start_time": "2021-05-11T08:18:08.158514",
     "status": "completed"
    },
    "tags": []
   },
   "source": [
    "# Content \n",
    "•\tIntroduction::\n",
    "•\tLoad data\n",
    "•\tData exploratory\n",
    "•\tCheck missing value\n",
    "•\tFeature analysis\n",
    "•\tHandle missing values\n",
    "•\tJoining test and train data\n",
    "•\tOne hot coding\n",
    "•\tSplitting data\n",
    "•\tTraning model using RandomForestClassifier\n",
    "•\tPredication\n",
    "•\tSaving submission file in csv format\n"
   ]
  },
  {
   "cell_type": "code",
   "execution_count": 1,
   "id": "lucky-pioneer",
   "metadata": {
    "execution": {
     "iopub.execute_input": "2021-05-11T08:18:08.284612Z",
     "iopub.status.busy": "2021-05-11T08:18:08.283982Z",
     "iopub.status.idle": "2021-05-11T08:18:15.221582Z",
     "shell.execute_reply": "2021-05-11T08:18:15.220768Z"
    },
    "papermill": {
     "duration": 6.984091,
     "end_time": "2021-05-11T08:18:15.221767",
     "exception": false,
     "start_time": "2021-05-11T08:18:08.237676",
     "status": "completed"
    },
    "tags": []
   },
   "outputs": [],
   "source": [
    "# import the dependencies \n",
    "import numpy as np\n",
    "import pandas as pd\n",
    "import tensorflow\n",
    "import seaborn as sns\n"
   ]
  },
  {
   "cell_type": "code",
   "execution_count": 2,
   "id": "accepting-composition",
   "metadata": {
    "execution": {
     "iopub.execute_input": "2021-05-11T08:18:15.302496Z",
     "iopub.status.busy": "2021-05-11T08:18:15.301783Z",
     "iopub.status.idle": "2021-05-11T08:18:15.333042Z",
     "shell.execute_reply": "2021-05-11T08:18:15.332438Z"
    },
    "papermill": {
     "duration": 0.074589,
     "end_time": "2021-05-11T08:18:15.333253",
     "exception": false,
     "start_time": "2021-05-11T08:18:15.258664",
     "status": "completed"
    },
    "tags": []
   },
   "outputs": [],
   "source": [
    "# load and check data\n",
    "train_data = pd.read_csv(\"../input/titanic/train.csv\")\n",
    "test_data = pd.read_csv(\"../input/titanic/test.csv\")"
   ]
  },
  {
   "cell_type": "code",
   "execution_count": 3,
   "id": "understood-springfield",
   "metadata": {
    "execution": {
     "iopub.execute_input": "2021-05-11T08:18:15.420595Z",
     "iopub.status.busy": "2021-05-11T08:18:15.419838Z",
     "iopub.status.idle": "2021-05-11T08:18:15.447947Z",
     "shell.execute_reply": "2021-05-11T08:18:15.447430Z"
    },
    "papermill": {
     "duration": 0.076939,
     "end_time": "2021-05-11T08:18:15.448092",
     "exception": false,
     "start_time": "2021-05-11T08:18:15.371153",
     "status": "completed"
    },
    "tags": []
   },
   "outputs": [
    {
     "data": {
      "text/html": [
       "<div>\n",
       "<style scoped>\n",
       "    .dataframe tbody tr th:only-of-type {\n",
       "        vertical-align: middle;\n",
       "    }\n",
       "\n",
       "    .dataframe tbody tr th {\n",
       "        vertical-align: top;\n",
       "    }\n",
       "\n",
       "    .dataframe thead th {\n",
       "        text-align: right;\n",
       "    }\n",
       "</style>\n",
       "<table border=\"1\" class=\"dataframe\">\n",
       "  <thead>\n",
       "    <tr style=\"text-align: right;\">\n",
       "      <th></th>\n",
       "      <th>PassengerId</th>\n",
       "      <th>Survived</th>\n",
       "      <th>Pclass</th>\n",
       "      <th>Name</th>\n",
       "      <th>Sex</th>\n",
       "      <th>Age</th>\n",
       "      <th>SibSp</th>\n",
       "      <th>Parch</th>\n",
       "      <th>Ticket</th>\n",
       "      <th>Fare</th>\n",
       "      <th>Cabin</th>\n",
       "      <th>Embarked</th>\n",
       "    </tr>\n",
       "  </thead>\n",
       "  <tbody>\n",
       "    <tr>\n",
       "      <th>0</th>\n",
       "      <td>1</td>\n",
       "      <td>0</td>\n",
       "      <td>3</td>\n",
       "      <td>Braund, Mr. Owen Harris</td>\n",
       "      <td>male</td>\n",
       "      <td>22.0</td>\n",
       "      <td>1</td>\n",
       "      <td>0</td>\n",
       "      <td>A/5 21171</td>\n",
       "      <td>7.2500</td>\n",
       "      <td>NaN</td>\n",
       "      <td>S</td>\n",
       "    </tr>\n",
       "    <tr>\n",
       "      <th>1</th>\n",
       "      <td>2</td>\n",
       "      <td>1</td>\n",
       "      <td>1</td>\n",
       "      <td>Cumings, Mrs. John Bradley (Florence Briggs Th...</td>\n",
       "      <td>female</td>\n",
       "      <td>38.0</td>\n",
       "      <td>1</td>\n",
       "      <td>0</td>\n",
       "      <td>PC 17599</td>\n",
       "      <td>71.2833</td>\n",
       "      <td>C85</td>\n",
       "      <td>C</td>\n",
       "    </tr>\n",
       "    <tr>\n",
       "      <th>2</th>\n",
       "      <td>3</td>\n",
       "      <td>1</td>\n",
       "      <td>3</td>\n",
       "      <td>Heikkinen, Miss. Laina</td>\n",
       "      <td>female</td>\n",
       "      <td>26.0</td>\n",
       "      <td>0</td>\n",
       "      <td>0</td>\n",
       "      <td>STON/O2. 3101282</td>\n",
       "      <td>7.9250</td>\n",
       "      <td>NaN</td>\n",
       "      <td>S</td>\n",
       "    </tr>\n",
       "    <tr>\n",
       "      <th>3</th>\n",
       "      <td>4</td>\n",
       "      <td>1</td>\n",
       "      <td>1</td>\n",
       "      <td>Futrelle, Mrs. Jacques Heath (Lily May Peel)</td>\n",
       "      <td>female</td>\n",
       "      <td>35.0</td>\n",
       "      <td>1</td>\n",
       "      <td>0</td>\n",
       "      <td>113803</td>\n",
       "      <td>53.1000</td>\n",
       "      <td>C123</td>\n",
       "      <td>S</td>\n",
       "    </tr>\n",
       "    <tr>\n",
       "      <th>4</th>\n",
       "      <td>5</td>\n",
       "      <td>0</td>\n",
       "      <td>3</td>\n",
       "      <td>Allen, Mr. William Henry</td>\n",
       "      <td>male</td>\n",
       "      <td>35.0</td>\n",
       "      <td>0</td>\n",
       "      <td>0</td>\n",
       "      <td>373450</td>\n",
       "      <td>8.0500</td>\n",
       "      <td>NaN</td>\n",
       "      <td>S</td>\n",
       "    </tr>\n",
       "  </tbody>\n",
       "</table>\n",
       "</div>"
      ],
      "text/plain": [
       "   PassengerId  Survived  Pclass  \\\n",
       "0            1         0       3   \n",
       "1            2         1       1   \n",
       "2            3         1       3   \n",
       "3            4         1       1   \n",
       "4            5         0       3   \n",
       "\n",
       "                                                Name     Sex   Age  SibSp  \\\n",
       "0                            Braund, Mr. Owen Harris    male  22.0      1   \n",
       "1  Cumings, Mrs. John Bradley (Florence Briggs Th...  female  38.0      1   \n",
       "2                             Heikkinen, Miss. Laina  female  26.0      0   \n",
       "3       Futrelle, Mrs. Jacques Heath (Lily May Peel)  female  35.0      1   \n",
       "4                           Allen, Mr. William Henry    male  35.0      0   \n",
       "\n",
       "   Parch            Ticket     Fare Cabin Embarked  \n",
       "0      0         A/5 21171   7.2500   NaN        S  \n",
       "1      0          PC 17599  71.2833   C85        C  \n",
       "2      0  STON/O2. 3101282   7.9250   NaN        S  \n",
       "3      0            113803  53.1000  C123        S  \n",
       "4      0            373450   8.0500   NaN        S  "
      ]
     },
     "execution_count": 3,
     "metadata": {},
     "output_type": "execute_result"
    }
   ],
   "source": [
    "# Data exploratory\n",
    "\n",
    "#printing first five rows of  train_dataset\n",
    "train_data.head() "
   ]
  },
  {
   "cell_type": "code",
   "execution_count": 4,
   "id": "presidential-header",
   "metadata": {
    "execution": {
     "iopub.execute_input": "2021-05-11T08:18:15.542754Z",
     "iopub.status.busy": "2021-05-11T08:18:15.542022Z",
     "iopub.status.idle": "2021-05-11T08:18:15.546029Z",
     "shell.execute_reply": "2021-05-11T08:18:15.545405Z"
    },
    "papermill": {
     "duration": 0.058928,
     "end_time": "2021-05-11T08:18:15.546173",
     "exception": false,
     "start_time": "2021-05-11T08:18:15.487245",
     "status": "completed"
    },
    "tags": []
   },
   "outputs": [
    {
     "data": {
      "text/html": [
       "<div>\n",
       "<style scoped>\n",
       "    .dataframe tbody tr th:only-of-type {\n",
       "        vertical-align: middle;\n",
       "    }\n",
       "\n",
       "    .dataframe tbody tr th {\n",
       "        vertical-align: top;\n",
       "    }\n",
       "\n",
       "    .dataframe thead th {\n",
       "        text-align: right;\n",
       "    }\n",
       "</style>\n",
       "<table border=\"1\" class=\"dataframe\">\n",
       "  <thead>\n",
       "    <tr style=\"text-align: right;\">\n",
       "      <th></th>\n",
       "      <th>PassengerId</th>\n",
       "      <th>Pclass</th>\n",
       "      <th>Name</th>\n",
       "      <th>Sex</th>\n",
       "      <th>Age</th>\n",
       "      <th>SibSp</th>\n",
       "      <th>Parch</th>\n",
       "      <th>Ticket</th>\n",
       "      <th>Fare</th>\n",
       "      <th>Cabin</th>\n",
       "      <th>Embarked</th>\n",
       "    </tr>\n",
       "  </thead>\n",
       "  <tbody>\n",
       "    <tr>\n",
       "      <th>0</th>\n",
       "      <td>892</td>\n",
       "      <td>3</td>\n",
       "      <td>Kelly, Mr. James</td>\n",
       "      <td>male</td>\n",
       "      <td>34.5</td>\n",
       "      <td>0</td>\n",
       "      <td>0</td>\n",
       "      <td>330911</td>\n",
       "      <td>7.8292</td>\n",
       "      <td>NaN</td>\n",
       "      <td>Q</td>\n",
       "    </tr>\n",
       "    <tr>\n",
       "      <th>1</th>\n",
       "      <td>893</td>\n",
       "      <td>3</td>\n",
       "      <td>Wilkes, Mrs. James (Ellen Needs)</td>\n",
       "      <td>female</td>\n",
       "      <td>47.0</td>\n",
       "      <td>1</td>\n",
       "      <td>0</td>\n",
       "      <td>363272</td>\n",
       "      <td>7.0000</td>\n",
       "      <td>NaN</td>\n",
       "      <td>S</td>\n",
       "    </tr>\n",
       "    <tr>\n",
       "      <th>2</th>\n",
       "      <td>894</td>\n",
       "      <td>2</td>\n",
       "      <td>Myles, Mr. Thomas Francis</td>\n",
       "      <td>male</td>\n",
       "      <td>62.0</td>\n",
       "      <td>0</td>\n",
       "      <td>0</td>\n",
       "      <td>240276</td>\n",
       "      <td>9.6875</td>\n",
       "      <td>NaN</td>\n",
       "      <td>Q</td>\n",
       "    </tr>\n",
       "    <tr>\n",
       "      <th>3</th>\n",
       "      <td>895</td>\n",
       "      <td>3</td>\n",
       "      <td>Wirz, Mr. Albert</td>\n",
       "      <td>male</td>\n",
       "      <td>27.0</td>\n",
       "      <td>0</td>\n",
       "      <td>0</td>\n",
       "      <td>315154</td>\n",
       "      <td>8.6625</td>\n",
       "      <td>NaN</td>\n",
       "      <td>S</td>\n",
       "    </tr>\n",
       "    <tr>\n",
       "      <th>4</th>\n",
       "      <td>896</td>\n",
       "      <td>3</td>\n",
       "      <td>Hirvonen, Mrs. Alexander (Helga E Lindqvist)</td>\n",
       "      <td>female</td>\n",
       "      <td>22.0</td>\n",
       "      <td>1</td>\n",
       "      <td>1</td>\n",
       "      <td>3101298</td>\n",
       "      <td>12.2875</td>\n",
       "      <td>NaN</td>\n",
       "      <td>S</td>\n",
       "    </tr>\n",
       "  </tbody>\n",
       "</table>\n",
       "</div>"
      ],
      "text/plain": [
       "   PassengerId  Pclass                                          Name     Sex  \\\n",
       "0          892       3                              Kelly, Mr. James    male   \n",
       "1          893       3              Wilkes, Mrs. James (Ellen Needs)  female   \n",
       "2          894       2                     Myles, Mr. Thomas Francis    male   \n",
       "3          895       3                              Wirz, Mr. Albert    male   \n",
       "4          896       3  Hirvonen, Mrs. Alexander (Helga E Lindqvist)  female   \n",
       "\n",
       "    Age  SibSp  Parch   Ticket     Fare Cabin Embarked  \n",
       "0  34.5      0      0   330911   7.8292   NaN        Q  \n",
       "1  47.0      1      0   363272   7.0000   NaN        S  \n",
       "2  62.0      0      0   240276   9.6875   NaN        Q  \n",
       "3  27.0      0      0   315154   8.6625   NaN        S  \n",
       "4  22.0      1      1  3101298  12.2875   NaN        S  "
      ]
     },
     "execution_count": 4,
     "metadata": {},
     "output_type": "execute_result"
    }
   ],
   "source": [
    "test_data.head()"
   ]
  },
  {
   "cell_type": "code",
   "execution_count": 5,
   "id": "physical-blink",
   "metadata": {
    "execution": {
     "iopub.execute_input": "2021-05-11T08:18:15.628960Z",
     "iopub.status.busy": "2021-05-11T08:18:15.627959Z",
     "iopub.status.idle": "2021-05-11T08:18:15.633363Z",
     "shell.execute_reply": "2021-05-11T08:18:15.633874Z"
    },
    "papermill": {
     "duration": 0.049723,
     "end_time": "2021-05-11T08:18:15.634093",
     "exception": false,
     "start_time": "2021-05-11T08:18:15.584370",
     "status": "completed"
    },
    "tags": []
   },
   "outputs": [
    {
     "data": {
      "text/plain": [
       "(891, 12)"
      ]
     },
     "execution_count": 5,
     "metadata": {},
     "output_type": "execute_result"
    }
   ],
   "source": [
    "# check the shape of train_data\n",
    "train_data.shape # 891 rows and 12 columns"
   ]
  },
  {
   "cell_type": "code",
   "execution_count": 6,
   "id": "formed-account",
   "metadata": {
    "execution": {
     "iopub.execute_input": "2021-05-11T08:18:15.719686Z",
     "iopub.status.busy": "2021-05-11T08:18:15.718704Z",
     "iopub.status.idle": "2021-05-11T08:18:15.723361Z",
     "shell.execute_reply": "2021-05-11T08:18:15.722733Z"
    },
    "papermill": {
     "duration": 0.049336,
     "end_time": "2021-05-11T08:18:15.723522",
     "exception": false,
     "start_time": "2021-05-11T08:18:15.674186",
     "status": "completed"
    },
    "tags": []
   },
   "outputs": [
    {
     "data": {
      "text/plain": [
       "(418, 11)"
      ]
     },
     "execution_count": 6,
     "metadata": {},
     "output_type": "execute_result"
    }
   ],
   "source": [
    "# Now check shape of test data\n",
    "test_data.shape"
   ]
  },
  {
   "cell_type": "code",
   "execution_count": 7,
   "id": "welcome-tribe",
   "metadata": {
    "execution": {
     "iopub.execute_input": "2021-05-11T08:18:15.826719Z",
     "iopub.status.busy": "2021-05-11T08:18:15.826053Z",
     "iopub.status.idle": "2021-05-11T08:18:15.831302Z",
     "shell.execute_reply": "2021-05-11T08:18:15.830127Z"
    },
    "papermill": {
     "duration": 0.06794,
     "end_time": "2021-05-11T08:18:15.831577",
     "exception": false,
     "start_time": "2021-05-11T08:18:15.763637",
     "status": "completed"
    },
    "tags": []
   },
   "outputs": [
    {
     "name": "stdout",
     "output_type": "stream",
     "text": [
      "<class 'pandas.core.frame.DataFrame'>\n",
      "RangeIndex: 891 entries, 0 to 890\n",
      "Data columns (total 12 columns):\n",
      " #   Column       Non-Null Count  Dtype  \n",
      "---  ------       --------------  -----  \n",
      " 0   PassengerId  891 non-null    int64  \n",
      " 1   Survived     891 non-null    int64  \n",
      " 2   Pclass       891 non-null    int64  \n",
      " 3   Name         891 non-null    object \n",
      " 4   Sex          891 non-null    object \n",
      " 5   Age          714 non-null    float64\n",
      " 6   SibSp        891 non-null    int64  \n",
      " 7   Parch        891 non-null    int64  \n",
      " 8   Ticket       891 non-null    object \n",
      " 9   Fare         891 non-null    float64\n",
      " 10  Cabin        204 non-null    object \n",
      " 11  Embarked     889 non-null    object \n",
      "dtypes: float64(2), int64(5), object(5)\n",
      "memory usage: 83.7+ KB\n"
     ]
    }
   ],
   "source": [
    "#info\n",
    "train_data.info()"
   ]
  },
  {
   "cell_type": "code",
   "execution_count": 8,
   "id": "going-engineering",
   "metadata": {
    "execution": {
     "iopub.execute_input": "2021-05-11T08:18:15.929252Z",
     "iopub.status.busy": "2021-05-11T08:18:15.928451Z",
     "iopub.status.idle": "2021-05-11T08:18:15.932689Z",
     "shell.execute_reply": "2021-05-11T08:18:15.932062Z"
    },
    "papermill": {
     "duration": 0.059796,
     "end_time": "2021-05-11T08:18:15.932834",
     "exception": false,
     "start_time": "2021-05-11T08:18:15.873038",
     "status": "completed"
    },
    "tags": []
   },
   "outputs": [
    {
     "name": "stdout",
     "output_type": "stream",
     "text": [
      "<class 'pandas.core.frame.DataFrame'>\n",
      "RangeIndex: 418 entries, 0 to 417\n",
      "Data columns (total 11 columns):\n",
      " #   Column       Non-Null Count  Dtype  \n",
      "---  ------       --------------  -----  \n",
      " 0   PassengerId  418 non-null    int64  \n",
      " 1   Pclass       418 non-null    int64  \n",
      " 2   Name         418 non-null    object \n",
      " 3   Sex          418 non-null    object \n",
      " 4   Age          332 non-null    float64\n",
      " 5   SibSp        418 non-null    int64  \n",
      " 6   Parch        418 non-null    int64  \n",
      " 7   Ticket       418 non-null    object \n",
      " 8   Fare         417 non-null    float64\n",
      " 9   Cabin        91 non-null     object \n",
      " 10  Embarked     418 non-null    object \n",
      "dtypes: float64(2), int64(4), object(5)\n",
      "memory usage: 36.0+ KB\n"
     ]
    }
   ],
   "source": [
    "#info 2\n",
    "test_data.info()"
   ]
  },
  {
   "cell_type": "code",
   "execution_count": 9,
   "id": "legitimate-chile",
   "metadata": {
    "execution": {
     "iopub.execute_input": "2021-05-11T08:18:16.023250Z",
     "iopub.status.busy": "2021-05-11T08:18:16.019019Z",
     "iopub.status.idle": "2021-05-11T08:18:16.054929Z",
     "shell.execute_reply": "2021-05-11T08:18:16.054347Z"
    },
    "papermill": {
     "duration": 0.080883,
     "end_time": "2021-05-11T08:18:16.055077",
     "exception": false,
     "start_time": "2021-05-11T08:18:15.974194",
     "status": "completed"
    },
    "tags": []
   },
   "outputs": [
    {
     "data": {
      "text/html": [
       "<div>\n",
       "<style scoped>\n",
       "    .dataframe tbody tr th:only-of-type {\n",
       "        vertical-align: middle;\n",
       "    }\n",
       "\n",
       "    .dataframe tbody tr th {\n",
       "        vertical-align: top;\n",
       "    }\n",
       "\n",
       "    .dataframe thead th {\n",
       "        text-align: right;\n",
       "    }\n",
       "</style>\n",
       "<table border=\"1\" class=\"dataframe\">\n",
       "  <thead>\n",
       "    <tr style=\"text-align: right;\">\n",
       "      <th></th>\n",
       "      <th>PassengerId</th>\n",
       "      <th>Survived</th>\n",
       "      <th>Pclass</th>\n",
       "      <th>Age</th>\n",
       "      <th>SibSp</th>\n",
       "      <th>Parch</th>\n",
       "      <th>Fare</th>\n",
       "    </tr>\n",
       "  </thead>\n",
       "  <tbody>\n",
       "    <tr>\n",
       "      <th>count</th>\n",
       "      <td>891.000000</td>\n",
       "      <td>891.000000</td>\n",
       "      <td>891.000000</td>\n",
       "      <td>714.000000</td>\n",
       "      <td>891.000000</td>\n",
       "      <td>891.000000</td>\n",
       "      <td>891.000000</td>\n",
       "    </tr>\n",
       "    <tr>\n",
       "      <th>mean</th>\n",
       "      <td>446.000000</td>\n",
       "      <td>0.383838</td>\n",
       "      <td>2.308642</td>\n",
       "      <td>29.699118</td>\n",
       "      <td>0.523008</td>\n",
       "      <td>0.381594</td>\n",
       "      <td>32.204208</td>\n",
       "    </tr>\n",
       "    <tr>\n",
       "      <th>std</th>\n",
       "      <td>257.353842</td>\n",
       "      <td>0.486592</td>\n",
       "      <td>0.836071</td>\n",
       "      <td>14.526497</td>\n",
       "      <td>1.102743</td>\n",
       "      <td>0.806057</td>\n",
       "      <td>49.693429</td>\n",
       "    </tr>\n",
       "    <tr>\n",
       "      <th>min</th>\n",
       "      <td>1.000000</td>\n",
       "      <td>0.000000</td>\n",
       "      <td>1.000000</td>\n",
       "      <td>0.420000</td>\n",
       "      <td>0.000000</td>\n",
       "      <td>0.000000</td>\n",
       "      <td>0.000000</td>\n",
       "    </tr>\n",
       "    <tr>\n",
       "      <th>25%</th>\n",
       "      <td>223.500000</td>\n",
       "      <td>0.000000</td>\n",
       "      <td>2.000000</td>\n",
       "      <td>20.125000</td>\n",
       "      <td>0.000000</td>\n",
       "      <td>0.000000</td>\n",
       "      <td>7.910400</td>\n",
       "    </tr>\n",
       "    <tr>\n",
       "      <th>50%</th>\n",
       "      <td>446.000000</td>\n",
       "      <td>0.000000</td>\n",
       "      <td>3.000000</td>\n",
       "      <td>28.000000</td>\n",
       "      <td>0.000000</td>\n",
       "      <td>0.000000</td>\n",
       "      <td>14.454200</td>\n",
       "    </tr>\n",
       "    <tr>\n",
       "      <th>75%</th>\n",
       "      <td>668.500000</td>\n",
       "      <td>1.000000</td>\n",
       "      <td>3.000000</td>\n",
       "      <td>38.000000</td>\n",
       "      <td>1.000000</td>\n",
       "      <td>0.000000</td>\n",
       "      <td>31.000000</td>\n",
       "    </tr>\n",
       "    <tr>\n",
       "      <th>max</th>\n",
       "      <td>891.000000</td>\n",
       "      <td>1.000000</td>\n",
       "      <td>3.000000</td>\n",
       "      <td>80.000000</td>\n",
       "      <td>8.000000</td>\n",
       "      <td>6.000000</td>\n",
       "      <td>512.329200</td>\n",
       "    </tr>\n",
       "  </tbody>\n",
       "</table>\n",
       "</div>"
      ],
      "text/plain": [
       "       PassengerId    Survived      Pclass         Age       SibSp  \\\n",
       "count   891.000000  891.000000  891.000000  714.000000  891.000000   \n",
       "mean    446.000000    0.383838    2.308642   29.699118    0.523008   \n",
       "std     257.353842    0.486592    0.836071   14.526497    1.102743   \n",
       "min       1.000000    0.000000    1.000000    0.420000    0.000000   \n",
       "25%     223.500000    0.000000    2.000000   20.125000    0.000000   \n",
       "50%     446.000000    0.000000    3.000000   28.000000    0.000000   \n",
       "75%     668.500000    1.000000    3.000000   38.000000    1.000000   \n",
       "max     891.000000    1.000000    3.000000   80.000000    8.000000   \n",
       "\n",
       "            Parch        Fare  \n",
       "count  891.000000  891.000000  \n",
       "mean     0.381594   32.204208  \n",
       "std      0.806057   49.693429  \n",
       "min      0.000000    0.000000  \n",
       "25%      0.000000    7.910400  \n",
       "50%      0.000000   14.454200  \n",
       "75%      0.000000   31.000000  \n",
       "max      6.000000  512.329200  "
      ]
     },
     "execution_count": 9,
     "metadata": {},
     "output_type": "execute_result"
    }
   ],
   "source": [
    "# sumarie and statistics\n",
    "train_data.describe()"
   ]
  },
  {
   "cell_type": "code",
   "execution_count": 10,
   "id": "latin-demand",
   "metadata": {
    "execution": {
     "iopub.execute_input": "2021-05-11T08:18:16.161173Z",
     "iopub.status.busy": "2021-05-11T08:18:16.160500Z",
     "iopub.status.idle": "2021-05-11T08:18:16.178049Z",
     "shell.execute_reply": "2021-05-11T08:18:16.177406Z"
    },
    "papermill": {
     "duration": 0.076108,
     "end_time": "2021-05-11T08:18:16.178192",
     "exception": false,
     "start_time": "2021-05-11T08:18:16.102084",
     "status": "completed"
    },
    "tags": []
   },
   "outputs": [
    {
     "data": {
      "text/html": [
       "<div>\n",
       "<style scoped>\n",
       "    .dataframe tbody tr th:only-of-type {\n",
       "        vertical-align: middle;\n",
       "    }\n",
       "\n",
       "    .dataframe tbody tr th {\n",
       "        vertical-align: top;\n",
       "    }\n",
       "\n",
       "    .dataframe thead th {\n",
       "        text-align: right;\n",
       "    }\n",
       "</style>\n",
       "<table border=\"1\" class=\"dataframe\">\n",
       "  <thead>\n",
       "    <tr style=\"text-align: right;\">\n",
       "      <th></th>\n",
       "      <th>PassengerId</th>\n",
       "      <th>Pclass</th>\n",
       "      <th>Age</th>\n",
       "      <th>SibSp</th>\n",
       "      <th>Parch</th>\n",
       "      <th>Fare</th>\n",
       "    </tr>\n",
       "  </thead>\n",
       "  <tbody>\n",
       "    <tr>\n",
       "      <th>count</th>\n",
       "      <td>418.000000</td>\n",
       "      <td>418.000000</td>\n",
       "      <td>332.000000</td>\n",
       "      <td>418.000000</td>\n",
       "      <td>418.000000</td>\n",
       "      <td>417.000000</td>\n",
       "    </tr>\n",
       "    <tr>\n",
       "      <th>mean</th>\n",
       "      <td>1100.500000</td>\n",
       "      <td>2.265550</td>\n",
       "      <td>30.272590</td>\n",
       "      <td>0.447368</td>\n",
       "      <td>0.392344</td>\n",
       "      <td>35.627188</td>\n",
       "    </tr>\n",
       "    <tr>\n",
       "      <th>std</th>\n",
       "      <td>120.810458</td>\n",
       "      <td>0.841838</td>\n",
       "      <td>14.181209</td>\n",
       "      <td>0.896760</td>\n",
       "      <td>0.981429</td>\n",
       "      <td>55.907576</td>\n",
       "    </tr>\n",
       "    <tr>\n",
       "      <th>min</th>\n",
       "      <td>892.000000</td>\n",
       "      <td>1.000000</td>\n",
       "      <td>0.170000</td>\n",
       "      <td>0.000000</td>\n",
       "      <td>0.000000</td>\n",
       "      <td>0.000000</td>\n",
       "    </tr>\n",
       "    <tr>\n",
       "      <th>25%</th>\n",
       "      <td>996.250000</td>\n",
       "      <td>1.000000</td>\n",
       "      <td>21.000000</td>\n",
       "      <td>0.000000</td>\n",
       "      <td>0.000000</td>\n",
       "      <td>7.895800</td>\n",
       "    </tr>\n",
       "    <tr>\n",
       "      <th>50%</th>\n",
       "      <td>1100.500000</td>\n",
       "      <td>3.000000</td>\n",
       "      <td>27.000000</td>\n",
       "      <td>0.000000</td>\n",
       "      <td>0.000000</td>\n",
       "      <td>14.454200</td>\n",
       "    </tr>\n",
       "    <tr>\n",
       "      <th>75%</th>\n",
       "      <td>1204.750000</td>\n",
       "      <td>3.000000</td>\n",
       "      <td>39.000000</td>\n",
       "      <td>1.000000</td>\n",
       "      <td>0.000000</td>\n",
       "      <td>31.500000</td>\n",
       "    </tr>\n",
       "    <tr>\n",
       "      <th>max</th>\n",
       "      <td>1309.000000</td>\n",
       "      <td>3.000000</td>\n",
       "      <td>76.000000</td>\n",
       "      <td>8.000000</td>\n",
       "      <td>9.000000</td>\n",
       "      <td>512.329200</td>\n",
       "    </tr>\n",
       "  </tbody>\n",
       "</table>\n",
       "</div>"
      ],
      "text/plain": [
       "       PassengerId      Pclass         Age       SibSp       Parch        Fare\n",
       "count   418.000000  418.000000  332.000000  418.000000  418.000000  417.000000\n",
       "mean   1100.500000    2.265550   30.272590    0.447368    0.392344   35.627188\n",
       "std     120.810458    0.841838   14.181209    0.896760    0.981429   55.907576\n",
       "min     892.000000    1.000000    0.170000    0.000000    0.000000    0.000000\n",
       "25%     996.250000    1.000000   21.000000    0.000000    0.000000    7.895800\n",
       "50%    1100.500000    3.000000   27.000000    0.000000    0.000000   14.454200\n",
       "75%    1204.750000    3.000000   39.000000    1.000000    0.000000   31.500000\n",
       "max    1309.000000    3.000000   76.000000    8.000000    9.000000  512.329200"
      ]
     },
     "execution_count": 10,
     "metadata": {},
     "output_type": "execute_result"
    }
   ],
   "source": [
    "test_data.describe()"
   ]
  },
  {
   "cell_type": "markdown",
   "id": "german-permission",
   "metadata": {
    "papermill": {
     "duration": 0.041054,
     "end_time": "2021-05-11T08:18:16.261523",
     "exception": false,
     "start_time": "2021-05-11T08:18:16.220469",
     "status": "completed"
    },
    "tags": []
   },
   "source": [
    "# check the missing values in train and test data"
   ]
  },
  {
   "cell_type": "code",
   "execution_count": 11,
   "id": "worldwide-hindu",
   "metadata": {
    "execution": {
     "iopub.execute_input": "2021-05-11T08:18:16.353625Z",
     "iopub.status.busy": "2021-05-11T08:18:16.352572Z",
     "iopub.status.idle": "2021-05-11T08:18:16.357396Z",
     "shell.execute_reply": "2021-05-11T08:18:16.356872Z"
    },
    "papermill": {
     "duration": 0.054795,
     "end_time": "2021-05-11T08:18:16.357533",
     "exception": false,
     "start_time": "2021-05-11T08:18:16.302738",
     "status": "completed"
    },
    "tags": []
   },
   "outputs": [
    {
     "data": {
      "text/plain": [
       "PassengerId      0\n",
       "Survived         0\n",
       "Pclass           0\n",
       "Name             0\n",
       "Sex              0\n",
       "Age            177\n",
       "SibSp            0\n",
       "Parch            0\n",
       "Ticket           0\n",
       "Fare             0\n",
       "Cabin          687\n",
       "Embarked         2\n",
       "dtype: int64"
      ]
     },
     "execution_count": 11,
     "metadata": {},
     "output_type": "execute_result"
    }
   ],
   "source": [
    "train_data.isnull().sum()"
   ]
  },
  {
   "cell_type": "code",
   "execution_count": 12,
   "id": "solid-seeker",
   "metadata": {
    "execution": {
     "iopub.execute_input": "2021-05-11T08:18:16.449616Z",
     "iopub.status.busy": "2021-05-11T08:18:16.448725Z",
     "iopub.status.idle": "2021-05-11T08:18:16.453116Z",
     "shell.execute_reply": "2021-05-11T08:18:16.452500Z"
    },
    "papermill": {
     "duration": 0.053623,
     "end_time": "2021-05-11T08:18:16.453250",
     "exception": false,
     "start_time": "2021-05-11T08:18:16.399627",
     "status": "completed"
    },
    "tags": []
   },
   "outputs": [
    {
     "data": {
      "text/plain": [
       "PassengerId      0\n",
       "Pclass           0\n",
       "Name             0\n",
       "Sex              0\n",
       "Age             86\n",
       "SibSp            0\n",
       "Parch            0\n",
       "Ticket           0\n",
       "Fare             1\n",
       "Cabin          327\n",
       "Embarked         0\n",
       "dtype: int64"
      ]
     },
     "execution_count": 12,
     "metadata": {},
     "output_type": "execute_result"
    }
   ],
   "source": [
    "test_data.isnull().sum()"
   ]
  },
  {
   "cell_type": "markdown",
   "id": "contemporary-lindsay",
   "metadata": {
    "papermill": {
     "duration": 0.04194,
     "end_time": "2021-05-11T08:18:16.538347",
     "exception": false,
     "start_time": "2021-05-11T08:18:16.496407",
     "status": "completed"
    },
    "tags": []
   },
   "source": [
    "# Now Feature analysis"
   ]
  },
  {
   "cell_type": "code",
   "execution_count": 13,
   "id": "controlling-alliance",
   "metadata": {
    "execution": {
     "iopub.execute_input": "2021-05-11T08:18:16.631523Z",
     "iopub.status.busy": "2021-05-11T08:18:16.630456Z",
     "iopub.status.idle": "2021-05-11T08:18:16.942350Z",
     "shell.execute_reply": "2021-05-11T08:18:16.941803Z"
    },
    "papermill": {
     "duration": 0.361989,
     "end_time": "2021-05-11T08:18:16.942485",
     "exception": false,
     "start_time": "2021-05-11T08:18:16.580496",
     "status": "completed"
    },
    "tags": []
   },
   "outputs": [
    {
     "data": {
      "image/png": "[encoded data removed]",
      "text/plain": [
       "<Figure size 432x288 with 2 Axes>"
      ]
     },
     "metadata": {
      "needs_background": "light"
     },
     "output_type": "display_data"
    }
   ],
   "source": [
    "# Correlation matrix between numerical values (SibSp Parch Age and Fare values) and Survived \n",
    "g = sns.heatmap(train_data[[\"Survived\",\"SibSp\",\"Parch\",\"Age\",\"Fare\"]].corr(),annot=True\n",
    "                , fmt = \".2f\", cmap = \"coolwarm\")"
   ]
  },
  {
   "cell_type": "code",
   "execution_count": 14,
   "id": "satisfactory-webcam",
   "metadata": {
    "execution": {
     "iopub.execute_input": "2021-05-11T08:18:17.039780Z",
     "iopub.status.busy": "2021-05-11T08:18:17.037881Z",
     "iopub.status.idle": "2021-05-11T08:18:17.242483Z",
     "shell.execute_reply": "2021-05-11T08:18:17.241553Z"
    },
    "papermill": {
     "duration": 0.255067,
     "end_time": "2021-05-11T08:18:17.242663",
     "exception": false,
     "start_time": "2021-05-11T08:18:16.987596",
     "status": "completed"
    },
    "tags": []
   },
   "outputs": [
    {
     "data": {
      "image/png": "[encoded data removed]",
      "text/plain": [
       "<Figure size 432x288 with 1 Axes>"
      ]
     },
     "metadata": {
      "needs_background": "light"
     },
     "output_type": "display_data"
    }
   ],
   "source": [
    "# survival probability\n",
    "g1 = sns.barplot(x=\"Sex\",y=\"Survived\",data=train_data)\n",
    "g1 = g.set_ylabel(\"Survival Probability\")"
   ]
  },
  {
   "cell_type": "markdown",
   "id": "narrative-underwear",
   "metadata": {
    "papermill": {
     "duration": 0.044479,
     "end_time": "2021-05-11T08:18:17.331955",
     "exception": false,
     "start_time": "2021-05-11T08:18:17.287476",
     "status": "completed"
    },
    "tags": []
   },
   "source": [
    "# handle missing values\n",
    "# numerical_values"
   ]
  },
  {
   "cell_type": "code",
   "execution_count": 15,
   "id": "light-bulletin",
   "metadata": {
    "execution": {
     "iopub.execute_input": "2021-05-11T08:18:17.428497Z",
     "iopub.status.busy": "2021-05-11T08:18:17.427508Z",
     "iopub.status.idle": "2021-05-11T08:18:17.430732Z",
     "shell.execute_reply": "2021-05-11T08:18:17.430024Z"
    },
    "papermill": {
     "duration": 0.05415,
     "end_time": "2021-05-11T08:18:17.430893",
     "exception": false,
     "start_time": "2021-05-11T08:18:17.376743",
     "status": "completed"
    },
    "tags": []
   },
   "outputs": [],
   "source": [
    "# handle missing value in train_data\n",
    "train_data[\"Age\"] = train_data[\"Age\"].fillna(train_data[\"Age\"].mean())"
   ]
  },
  {
   "cell_type": "code",
   "execution_count": 16,
   "id": "convenient-escape",
   "metadata": {
    "execution": {
     "iopub.execute_input": "2021-05-11T08:18:17.525314Z",
     "iopub.status.busy": "2021-05-11T08:18:17.524668Z",
     "iopub.status.idle": "2021-05-11T08:18:17.531230Z",
     "shell.execute_reply": "2021-05-11T08:18:17.531713Z"
    },
    "papermill": {
     "duration": 0.054919,
     "end_time": "2021-05-11T08:18:17.531906",
     "exception": false,
     "start_time": "2021-05-11T08:18:17.476987",
     "status": "completed"
    },
    "tags": []
   },
   "outputs": [
    {
     "data": {
      "text/plain": [
       "0    22.0\n",
       "1    38.0\n",
       "2    26.0\n",
       "3    35.0\n",
       "4    35.0\n",
       "Name: Age, dtype: float64"
      ]
     },
     "execution_count": 16,
     "metadata": {},
     "output_type": "execute_result"
    }
   ],
   "source": [
    "train_data[\"Age\"].head()"
   ]
  },
  {
   "cell_type": "code",
   "execution_count": 17,
   "id": "revised-designer",
   "metadata": {
    "execution": {
     "iopub.execute_input": "2021-05-11T08:18:17.625418Z",
     "iopub.status.busy": "2021-05-11T08:18:17.624762Z",
     "iopub.status.idle": "2021-05-11T08:18:17.632737Z",
     "shell.execute_reply": "2021-05-11T08:18:17.633257Z"
    },
    "papermill": {
     "duration": 0.056301,
     "end_time": "2021-05-11T08:18:17.633483",
     "exception": false,
     "start_time": "2021-05-11T08:18:17.577182",
     "status": "completed"
    },
    "tags": []
   },
   "outputs": [
    {
     "data": {
      "text/plain": [
       "PassengerId      0\n",
       "Survived         0\n",
       "Pclass           0\n",
       "Name             0\n",
       "Sex              0\n",
       "Age              0\n",
       "SibSp            0\n",
       "Parch            0\n",
       "Ticket           0\n",
       "Fare             0\n",
       "Cabin          687\n",
       "Embarked         2\n",
       "dtype: int64"
      ]
     },
     "execution_count": 17,
     "metadata": {},
     "output_type": "execute_result"
    }
   ],
   "source": [
    "train_data.isnull().sum()"
   ]
  },
  {
   "cell_type": "code",
   "execution_count": 18,
   "id": "orange-series",
   "metadata": {
    "execution": {
     "iopub.execute_input": "2021-05-11T08:18:17.728305Z",
     "iopub.status.busy": "2021-05-11T08:18:17.727658Z",
     "iopub.status.idle": "2021-05-11T08:18:17.732357Z",
     "shell.execute_reply": "2021-05-11T08:18:17.732909Z"
    },
    "papermill": {
     "duration": 0.05365,
     "end_time": "2021-05-11T08:18:17.733106",
     "exception": false,
     "start_time": "2021-05-11T08:18:17.679456",
     "status": "completed"
    },
    "tags": []
   },
   "outputs": [],
   "source": [
    "# handle missing value in test_data\n",
    "test_data[\"Age\"] = test_data[\"Age\"].fillna(test_data[\"Age\"].mean())"
   ]
  },
  {
   "cell_type": "code",
   "execution_count": 19,
   "id": "transsexual-grammar",
   "metadata": {
    "execution": {
     "iopub.execute_input": "2021-05-11T08:18:17.829288Z",
     "iopub.status.busy": "2021-05-11T08:18:17.828664Z",
     "iopub.status.idle": "2021-05-11T08:18:17.836219Z",
     "shell.execute_reply": "2021-05-11T08:18:17.836731Z"
    },
    "papermill": {
     "duration": 0.056523,
     "end_time": "2021-05-11T08:18:17.836933",
     "exception": false,
     "start_time": "2021-05-11T08:18:17.780410",
     "status": "completed"
    },
    "tags": []
   },
   "outputs": [
    {
     "data": {
      "text/plain": [
       "PassengerId      0\n",
       "Pclass           0\n",
       "Name             0\n",
       "Sex              0\n",
       "Age              0\n",
       "SibSp            0\n",
       "Parch            0\n",
       "Ticket           0\n",
       "Fare             1\n",
       "Cabin          327\n",
       "Embarked         0\n",
       "dtype: int64"
      ]
     },
     "execution_count": 19,
     "metadata": {},
     "output_type": "execute_result"
    }
   ],
   "source": [
    "test_data.isnull().sum()"
   ]
  },
  {
   "cell_type": "markdown",
   "id": "grand-adaptation",
   "metadata": {
    "papermill": {
     "duration": 0.046159,
     "end_time": "2021-05-11T08:18:17.929601",
     "exception": false,
     "start_time": "2021-05-11T08:18:17.883442",
     "status": "completed"
    },
    "tags": []
   },
   "source": [
    "# Categorical values"
   ]
  },
  {
   "cell_type": "code",
   "execution_count": 20,
   "id": "earned-instrumentation",
   "metadata": {
    "execution": {
     "iopub.execute_input": "2021-05-11T08:18:18.025917Z",
     "iopub.status.busy": "2021-05-11T08:18:18.025189Z",
     "iopub.status.idle": "2021-05-11T08:18:18.031762Z",
     "shell.execute_reply": "2021-05-11T08:18:18.032305Z"
    },
    "papermill": {
     "duration": 0.056324,
     "end_time": "2021-05-11T08:18:18.032473",
     "exception": false,
     "start_time": "2021-05-11T08:18:17.976149",
     "status": "completed"
    },
    "tags": []
   },
   "outputs": [],
   "source": [
    "# train_data\n",
    "train_data['Cabin']=train_data['Cabin'].fillna(train_data['Cabin'].mode()[0])\n",
    "train_data['Embarked']=train_data['Embarked'].fillna(train_data['Embarked'].mode()[0])"
   ]
  },
  {
   "cell_type": "code",
   "execution_count": 21,
   "id": "stone-gauge",
   "metadata": {
    "execution": {
     "iopub.execute_input": "2021-05-11T08:18:18.132140Z",
     "iopub.status.busy": "2021-05-11T08:18:18.131401Z",
     "iopub.status.idle": "2021-05-11T08:18:18.139417Z",
     "shell.execute_reply": "2021-05-11T08:18:18.139935Z"
    },
    "papermill": {
     "duration": 0.058357,
     "end_time": "2021-05-11T08:18:18.140103",
     "exception": false,
     "start_time": "2021-05-11T08:18:18.081746",
     "status": "completed"
    },
    "tags": []
   },
   "outputs": [
    {
     "data": {
      "text/plain": [
       "PassengerId    0\n",
       "Survived       0\n",
       "Pclass         0\n",
       "Name           0\n",
       "Sex            0\n",
       "Age            0\n",
       "SibSp          0\n",
       "Parch          0\n",
       "Ticket         0\n",
       "Fare           0\n",
       "Cabin          0\n",
       "Embarked       0\n",
       "dtype: int64"
      ]
     },
     "execution_count": 21,
     "metadata": {},
     "output_type": "execute_result"
    }
   ],
   "source": [
    "train_data.isnull().sum() # all missing values handle"
   ]
  },
  {
   "cell_type": "code",
   "execution_count": 22,
   "id": "promotional-grain",
   "metadata": {
    "execution": {
     "iopub.execute_input": "2021-05-11T08:18:18.237803Z",
     "iopub.status.busy": "2021-05-11T08:18:18.237174Z",
     "iopub.status.idle": "2021-05-11T08:18:18.243259Z",
     "shell.execute_reply": "2021-05-11T08:18:18.243779Z"
    },
    "papermill": {
     "duration": 0.056968,
     "end_time": "2021-05-11T08:18:18.243966",
     "exception": false,
     "start_time": "2021-05-11T08:18:18.186998",
     "status": "completed"
    },
    "tags": []
   },
   "outputs": [],
   "source": [
    "# test_data\n",
    "test_data['Cabin']=test_data['Cabin'].fillna(test_data['Cabin'].mode()[0])\n",
    "test_data['Fare']=test_data['Fare'].fillna(test_data['Fare'].mode()[0])"
   ]
  },
  {
   "cell_type": "code",
   "execution_count": 23,
   "id": "handed-newport",
   "metadata": {
    "execution": {
     "iopub.execute_input": "2021-05-11T08:18:18.342203Z",
     "iopub.status.busy": "2021-05-11T08:18:18.341604Z",
     "iopub.status.idle": "2021-05-11T08:18:18.349273Z",
     "shell.execute_reply": "2021-05-11T08:18:18.349781Z"
    },
    "papermill": {
     "duration": 0.058483,
     "end_time": "2021-05-11T08:18:18.349975",
     "exception": false,
     "start_time": "2021-05-11T08:18:18.291492",
     "status": "completed"
    },
    "tags": []
   },
   "outputs": [
    {
     "data": {
      "text/plain": [
       "PassengerId    0\n",
       "Pclass         0\n",
       "Name           0\n",
       "Sex            0\n",
       "Age            0\n",
       "SibSp          0\n",
       "Parch          0\n",
       "Ticket         0\n",
       "Fare           0\n",
       "Cabin          0\n",
       "Embarked       0\n",
       "dtype: int64"
      ]
     },
     "execution_count": 23,
     "metadata": {},
     "output_type": "execute_result"
    }
   ],
   "source": [
    "test_data.isnull().sum()"
   ]
  },
  {
   "cell_type": "code",
   "execution_count": 24,
   "id": "stylish-remainder",
   "metadata": {
    "execution": {
     "iopub.execute_input": "2021-05-11T08:18:18.449180Z",
     "iopub.status.busy": "2021-05-11T08:18:18.448469Z",
     "iopub.status.idle": "2021-05-11T08:18:18.662402Z",
     "shell.execute_reply": "2021-05-11T08:18:18.663008Z"
    },
    "papermill": {
     "duration": 0.265412,
     "end_time": "2021-05-11T08:18:18.663185",
     "exception": false,
     "start_time": "2021-05-11T08:18:18.397773",
     "status": "completed"
    },
    "tags": []
   },
   "outputs": [],
   "source": [
    "dataset =  pd.concat([train_data, test_data], axis=0)"
   ]
  },
  {
   "cell_type": "code",
   "execution_count": 25,
   "id": "monetary-kelly",
   "metadata": {
    "execution": {
     "iopub.execute_input": "2021-05-11T08:18:18.762900Z",
     "iopub.status.busy": "2021-05-11T08:18:18.762172Z",
     "iopub.status.idle": "2021-05-11T08:18:18.766791Z",
     "shell.execute_reply": "2021-05-11T08:18:18.767445Z"
    },
    "papermill": {
     "duration": 0.056603,
     "end_time": "2021-05-11T08:18:18.767632",
     "exception": false,
     "start_time": "2021-05-11T08:18:18.711029",
     "status": "completed"
    },
    "tags": []
   },
   "outputs": [
    {
     "data": {
      "text/plain": [
       "(1309, 12)"
      ]
     },
     "execution_count": 25,
     "metadata": {},
     "output_type": "execute_result"
    }
   ],
   "source": [
    "dataset.shape"
   ]
  },
  {
   "cell_type": "code",
   "execution_count": 26,
   "id": "olympic-thompson",
   "metadata": {
    "execution": {
     "iopub.execute_input": "2021-05-11T08:18:18.868484Z",
     "iopub.status.busy": "2021-05-11T08:18:18.867887Z",
     "iopub.status.idle": "2021-05-11T08:18:18.874593Z",
     "shell.execute_reply": "2021-05-11T08:18:18.875172Z"
    },
    "papermill": {
     "duration": 0.058794,
     "end_time": "2021-05-11T08:18:18.875346",
     "exception": false,
     "start_time": "2021-05-11T08:18:18.816552",
     "status": "completed"
    },
    "tags": []
   },
   "outputs": [],
   "source": [
    "# Fill empty and NaNs values with NaN\n",
    "dataset = dataset.fillna(np.nan)"
   ]
  },
  {
   "cell_type": "code",
   "execution_count": 27,
   "id": "dated-termination",
   "metadata": {
    "execution": {
     "iopub.execute_input": "2021-05-11T08:18:18.975979Z",
     "iopub.status.busy": "2021-05-11T08:18:18.975309Z",
     "iopub.status.idle": "2021-05-11T08:18:18.980833Z",
     "shell.execute_reply": "2021-05-11T08:18:18.981429Z"
    },
    "papermill": {
     "duration": 0.057903,
     "end_time": "2021-05-11T08:18:18.981615",
     "exception": false,
     "start_time": "2021-05-11T08:18:18.923712",
     "status": "completed"
    },
    "tags": []
   },
   "outputs": [],
   "source": [
    "# drop name column\n",
    "dataset.drop(['Name'],axis=1,inplace=True)"
   ]
  },
  {
   "cell_type": "code",
   "execution_count": 28,
   "id": "prompt-encoding",
   "metadata": {
    "execution": {
     "iopub.execute_input": "2021-05-11T08:18:19.086290Z",
     "iopub.status.busy": "2021-05-11T08:18:19.085166Z",
     "iopub.status.idle": "2021-05-11T08:18:19.094496Z",
     "shell.execute_reply": "2021-05-11T08:18:19.095269Z"
    },
    "papermill": {
     "duration": 0.064277,
     "end_time": "2021-05-11T08:18:19.095481",
     "exception": false,
     "start_time": "2021-05-11T08:18:19.031204",
     "status": "completed"
    },
    "tags": []
   },
   "outputs": [
    {
     "data": {
      "text/plain": [
       "Index(['PassengerId', 'Survived', 'Pclass', 'Sex', 'Age', 'SibSp', 'Parch',\n",
       "       'Ticket', 'Fare', 'Cabin', 'Embarked'],\n",
       "      dtype='object')"
      ]
     },
     "execution_count": 28,
     "metadata": {},
     "output_type": "execute_result"
    }
   ],
   "source": [
    "dataset.columns"
   ]
  },
  {
   "cell_type": "markdown",
   "id": "fundamental-diving",
   "metadata": {
    "papermill": {
     "duration": 0.062682,
     "end_time": "2021-05-11T08:18:19.220888",
     "exception": false,
     "start_time": "2021-05-11T08:18:19.158206",
     "status": "completed"
    },
    "tags": []
   },
   "source": [
    "# Extras"
   ]
  },
  {
   "cell_type": "code",
   "execution_count": 29,
   "id": "requested-venture",
   "metadata": {
    "execution": {
     "iopub.execute_input": "2021-05-11T08:18:19.321988Z",
     "iopub.status.busy": "2021-05-11T08:18:19.321300Z",
     "iopub.status.idle": "2021-05-11T08:18:19.493601Z",
     "shell.execute_reply": "2021-05-11T08:18:19.493052Z"
    },
    "papermill": {
     "duration": 0.22411,
     "end_time": "2021-05-11T08:18:19.493770",
     "exception": false,
     "start_time": "2021-05-11T08:18:19.269660",
     "status": "completed"
    },
    "tags": []
   },
   "outputs": [],
   "source": [
    "# How to handle categorical data?\n",
    "from sklearn.preprocessing import LabelEncoder\n",
    "enc = LabelEncoder()"
   ]
  },
  {
   "cell_type": "code",
   "execution_count": 30,
   "id": "political-future",
   "metadata": {
    "execution": {
     "iopub.execute_input": "2021-05-11T08:18:19.599059Z",
     "iopub.status.busy": "2021-05-11T08:18:19.598230Z",
     "iopub.status.idle": "2021-05-11T08:18:19.621004Z",
     "shell.execute_reply": "2021-05-11T08:18:19.620353Z"
    },
    "papermill": {
     "duration": 0.077857,
     "end_time": "2021-05-11T08:18:19.621143",
     "exception": false,
     "start_time": "2021-05-11T08:18:19.543286",
     "status": "completed"
    },
    "tags": []
   },
   "outputs": [
    {
     "data": {
      "text/html": [
       "<div>\n",
       "<style scoped>\n",
       "    .dataframe tbody tr th:only-of-type {\n",
       "        vertical-align: middle;\n",
       "    }\n",
       "\n",
       "    .dataframe tbody tr th {\n",
       "        vertical-align: top;\n",
       "    }\n",
       "\n",
       "    .dataframe thead th {\n",
       "        text-align: right;\n",
       "    }\n",
       "</style>\n",
       "<table border=\"1\" class=\"dataframe\">\n",
       "  <thead>\n",
       "    <tr style=\"text-align: right;\">\n",
       "      <th></th>\n",
       "      <th>Sex</th>\n",
       "      <th>Ticket</th>\n",
       "      <th>Cabin</th>\n",
       "      <th>Embarked</th>\n",
       "    </tr>\n",
       "  </thead>\n",
       "  <tbody>\n",
       "    <tr>\n",
       "      <th>0</th>\n",
       "      <td>1</td>\n",
       "      <td>720</td>\n",
       "      <td>60</td>\n",
       "      <td>2</td>\n",
       "    </tr>\n",
       "    <tr>\n",
       "      <th>1</th>\n",
       "      <td>0</td>\n",
       "      <td>816</td>\n",
       "      <td>106</td>\n",
       "      <td>0</td>\n",
       "    </tr>\n",
       "    <tr>\n",
       "      <th>2</th>\n",
       "      <td>0</td>\n",
       "      <td>914</td>\n",
       "      <td>60</td>\n",
       "      <td>2</td>\n",
       "    </tr>\n",
       "    <tr>\n",
       "      <th>3</th>\n",
       "      <td>0</td>\n",
       "      <td>65</td>\n",
       "      <td>70</td>\n",
       "      <td>2</td>\n",
       "    </tr>\n",
       "    <tr>\n",
       "      <th>4</th>\n",
       "      <td>1</td>\n",
       "      <td>649</td>\n",
       "      <td>60</td>\n",
       "      <td>2</td>\n",
       "    </tr>\n",
       "    <tr>\n",
       "      <th>...</th>\n",
       "      <td>...</td>\n",
       "      <td>...</td>\n",
       "      <td>...</td>\n",
       "      <td>...</td>\n",
       "    </tr>\n",
       "    <tr>\n",
       "      <th>413</th>\n",
       "      <td>1</td>\n",
       "      <td>711</td>\n",
       "      <td>47</td>\n",
       "      <td>2</td>\n",
       "    </tr>\n",
       "    <tr>\n",
       "      <th>414</th>\n",
       "      <td>0</td>\n",
       "      <td>834</td>\n",
       "      <td>64</td>\n",
       "      <td>0</td>\n",
       "    </tr>\n",
       "    <tr>\n",
       "      <th>415</th>\n",
       "      <td>1</td>\n",
       "      <td>872</td>\n",
       "      <td>47</td>\n",
       "      <td>2</td>\n",
       "    </tr>\n",
       "    <tr>\n",
       "      <th>416</th>\n",
       "      <td>1</td>\n",
       "      <td>579</td>\n",
       "      <td>47</td>\n",
       "      <td>2</td>\n",
       "    </tr>\n",
       "    <tr>\n",
       "      <th>417</th>\n",
       "      <td>1</td>\n",
       "      <td>262</td>\n",
       "      <td>47</td>\n",
       "      <td>0</td>\n",
       "    </tr>\n",
       "  </tbody>\n",
       "</table>\n",
       "<p>1309 rows × 4 columns</p>\n",
       "</div>"
      ],
      "text/plain": [
       "     Sex  Ticket  Cabin  Embarked\n",
       "0      1     720     60         2\n",
       "1      0     816    106         0\n",
       "2      0     914     60         2\n",
       "3      0      65     70         2\n",
       "4      1     649     60         2\n",
       "..   ...     ...    ...       ...\n",
       "413    1     711     47         2\n",
       "414    0     834     64         0\n",
       "415    1     872     47         2\n",
       "416    1     579     47         2\n",
       "417    1     262     47         0\n",
       "\n",
       "[1309 rows x 4 columns]"
      ]
     },
     "execution_count": 30,
     "metadata": {},
     "output_type": "execute_result"
    }
   ],
   "source": [
    "encode = dataset[['Sex','Ticket','Cabin','Embarked']].apply(enc.fit_transform)\n",
    "encode"
   ]
  },
  {
   "cell_type": "code",
   "execution_count": 31,
   "id": "circular-fishing",
   "metadata": {
    "execution": {
     "iopub.execute_input": "2021-05-11T08:18:19.729408Z",
     "iopub.status.busy": "2021-05-11T08:18:19.728480Z",
     "iopub.status.idle": "2021-05-11T08:18:19.732471Z",
     "shell.execute_reply": "2021-05-11T08:18:19.731774Z"
    },
    "papermill": {
     "duration": 0.06133,
     "end_time": "2021-05-11T08:18:19.732614",
     "exception": false,
     "start_time": "2021-05-11T08:18:19.671284",
     "status": "completed"
    },
    "tags": []
   },
   "outputs": [],
   "source": [
    "dataset[['Sex','Ticket','Cabin','Embarked']] = encode[['Sex','Ticket','Cabin','Embarked']]"
   ]
  },
  {
   "cell_type": "code",
   "execution_count": 32,
   "id": "timely-husband",
   "metadata": {
    "execution": {
     "iopub.execute_input": "2021-05-11T08:18:19.848586Z",
     "iopub.status.busy": "2021-05-11T08:18:19.847630Z",
     "iopub.status.idle": "2021-05-11T08:18:19.851496Z",
     "shell.execute_reply": "2021-05-11T08:18:19.851973Z"
    },
    "papermill": {
     "duration": 0.069132,
     "end_time": "2021-05-11T08:18:19.852146",
     "exception": false,
     "start_time": "2021-05-11T08:18:19.783014",
     "status": "completed"
    },
    "tags": []
   },
   "outputs": [
    {
     "data": {
      "text/html": [
       "<div>\n",
       "<style scoped>\n",
       "    .dataframe tbody tr th:only-of-type {\n",
       "        vertical-align: middle;\n",
       "    }\n",
       "\n",
       "    .dataframe tbody tr th {\n",
       "        vertical-align: top;\n",
       "    }\n",
       "\n",
       "    .dataframe thead th {\n",
       "        text-align: right;\n",
       "    }\n",
       "</style>\n",
       "<table border=\"1\" class=\"dataframe\">\n",
       "  <thead>\n",
       "    <tr style=\"text-align: right;\">\n",
       "      <th></th>\n",
       "      <th>PassengerId</th>\n",
       "      <th>Survived</th>\n",
       "      <th>Pclass</th>\n",
       "      <th>Sex</th>\n",
       "      <th>Age</th>\n",
       "      <th>SibSp</th>\n",
       "      <th>Parch</th>\n",
       "      <th>Ticket</th>\n",
       "      <th>Fare</th>\n",
       "      <th>Cabin</th>\n",
       "      <th>Embarked</th>\n",
       "    </tr>\n",
       "  </thead>\n",
       "  <tbody>\n",
       "    <tr>\n",
       "      <th>0</th>\n",
       "      <td>1</td>\n",
       "      <td>0.0</td>\n",
       "      <td>3</td>\n",
       "      <td>1</td>\n",
       "      <td>22.0</td>\n",
       "      <td>1</td>\n",
       "      <td>0</td>\n",
       "      <td>720</td>\n",
       "      <td>7.2500</td>\n",
       "      <td>60</td>\n",
       "      <td>2</td>\n",
       "    </tr>\n",
       "    <tr>\n",
       "      <th>1</th>\n",
       "      <td>2</td>\n",
       "      <td>1.0</td>\n",
       "      <td>1</td>\n",
       "      <td>0</td>\n",
       "      <td>38.0</td>\n",
       "      <td>1</td>\n",
       "      <td>0</td>\n",
       "      <td>816</td>\n",
       "      <td>71.2833</td>\n",
       "      <td>106</td>\n",
       "      <td>0</td>\n",
       "    </tr>\n",
       "    <tr>\n",
       "      <th>2</th>\n",
       "      <td>3</td>\n",
       "      <td>1.0</td>\n",
       "      <td>3</td>\n",
       "      <td>0</td>\n",
       "      <td>26.0</td>\n",
       "      <td>0</td>\n",
       "      <td>0</td>\n",
       "      <td>914</td>\n",
       "      <td>7.9250</td>\n",
       "      <td>60</td>\n",
       "      <td>2</td>\n",
       "    </tr>\n",
       "    <tr>\n",
       "      <th>3</th>\n",
       "      <td>4</td>\n",
       "      <td>1.0</td>\n",
       "      <td>1</td>\n",
       "      <td>0</td>\n",
       "      <td>35.0</td>\n",
       "      <td>1</td>\n",
       "      <td>0</td>\n",
       "      <td>65</td>\n",
       "      <td>53.1000</td>\n",
       "      <td>70</td>\n",
       "      <td>2</td>\n",
       "    </tr>\n",
       "    <tr>\n",
       "      <th>4</th>\n",
       "      <td>5</td>\n",
       "      <td>0.0</td>\n",
       "      <td>3</td>\n",
       "      <td>1</td>\n",
       "      <td>35.0</td>\n",
       "      <td>0</td>\n",
       "      <td>0</td>\n",
       "      <td>649</td>\n",
       "      <td>8.0500</td>\n",
       "      <td>60</td>\n",
       "      <td>2</td>\n",
       "    </tr>\n",
       "  </tbody>\n",
       "</table>\n",
       "</div>"
      ],
      "text/plain": [
       "   PassengerId  Survived  Pclass  Sex   Age  SibSp  Parch  Ticket     Fare  \\\n",
       "0            1       0.0       3    1  22.0      1      0     720   7.2500   \n",
       "1            2       1.0       1    0  38.0      1      0     816  71.2833   \n",
       "2            3       1.0       3    0  26.0      0      0     914   7.9250   \n",
       "3            4       1.0       1    0  35.0      1      0      65  53.1000   \n",
       "4            5       0.0       3    1  35.0      0      0     649   8.0500   \n",
       "\n",
       "   Cabin  Embarked  \n",
       "0     60         2  \n",
       "1    106         0  \n",
       "2     60         2  \n",
       "3     70         2  \n",
       "4     60         2  "
      ]
     },
     "execution_count": 32,
     "metadata": {},
     "output_type": "execute_result"
    }
   ],
   "source": [
    "dataset.head()"
   ]
  },
  {
   "cell_type": "code",
   "execution_count": 33,
   "id": "peripheral-venture",
   "metadata": {
    "execution": {
     "iopub.execute_input": "2021-05-11T08:18:19.958535Z",
     "iopub.status.busy": "2021-05-11T08:18:19.957561Z",
     "iopub.status.idle": "2021-05-11T08:18:19.961724Z",
     "shell.execute_reply": "2021-05-11T08:18:19.962282Z"
    },
    "papermill": {
     "duration": 0.059914,
     "end_time": "2021-05-11T08:18:19.962474",
     "exception": false,
     "start_time": "2021-05-11T08:18:19.902560",
     "status": "completed"
    },
    "tags": []
   },
   "outputs": [
    {
     "data": {
      "text/plain": [
       "(1309, 11)"
      ]
     },
     "execution_count": 33,
     "metadata": {},
     "output_type": "execute_result"
    }
   ],
   "source": [
    "dataset.shape"
   ]
  },
  {
   "cell_type": "code",
   "execution_count": 34,
   "id": "certain-serve",
   "metadata": {
    "execution": {
     "iopub.execute_input": "2021-05-11T08:18:20.071007Z",
     "iopub.status.busy": "2021-05-11T08:18:20.070303Z",
     "iopub.status.idle": "2021-05-11T08:18:20.074046Z",
     "shell.execute_reply": "2021-05-11T08:18:20.073475Z"
    },
    "papermill": {
     "duration": 0.059679,
     "end_time": "2021-05-11T08:18:20.074193",
     "exception": false,
     "start_time": "2021-05-11T08:18:20.014514",
     "status": "completed"
    },
    "tags": []
   },
   "outputs": [],
   "source": [
    "train_len = len(train_data)"
   ]
  },
  {
   "cell_type": "code",
   "execution_count": 35,
   "id": "cardiovascular-maryland",
   "metadata": {
    "execution": {
     "iopub.execute_input": "2021-05-11T08:18:20.181556Z",
     "iopub.status.busy": "2021-05-11T08:18:20.180552Z",
     "iopub.status.idle": "2021-05-11T08:18:20.183690Z",
     "shell.execute_reply": "2021-05-11T08:18:20.183048Z"
    },
    "papermill": {
     "duration": 0.058188,
     "end_time": "2021-05-11T08:18:20.183833",
     "exception": false,
     "start_time": "2021-05-11T08:18:20.125645",
     "status": "completed"
    },
    "tags": []
   },
   "outputs": [],
   "source": [
    "# Modeling"
   ]
  },
  {
   "cell_type": "code",
   "execution_count": 36,
   "id": "surprising-payroll",
   "metadata": {
    "execution": {
     "iopub.execute_input": "2021-05-11T08:18:20.294334Z",
     "iopub.status.busy": "2021-05-11T08:18:20.293495Z",
     "iopub.status.idle": "2021-05-11T08:18:20.304829Z",
     "shell.execute_reply": "2021-05-11T08:18:20.304037Z"
    },
    "papermill": {
     "duration": 0.069558,
     "end_time": "2021-05-11T08:18:20.305008",
     "exception": false,
     "start_time": "2021-05-11T08:18:20.235450",
     "status": "completed"
    },
    "tags": []
   },
   "outputs": [
    {
     "name": "stderr",
     "output_type": "stream",
     "text": [
      "/opt/conda/lib/python3.7/site-packages/pandas/core/frame.py:4315: SettingWithCopyWarning: \n",
      "A value is trying to be set on a copy of a slice from a DataFrame\n",
      "\n",
      "See the caveats in the documentation: https://pandas.pydata.org/pandas-docs/stable/user_guide/indexing.html#returning-a-view-versus-a-copy\n",
      "  errors=errors,\n"
     ]
    }
   ],
   "source": [
    "train = dataset[:train_len]\n",
    "test= dataset[train_len:]\n",
    "test.drop(labels=[\"Survived\"],axis = 1,inplace=True)"
   ]
  },
  {
   "cell_type": "code",
   "execution_count": 37,
   "id": "arbitrary-smart",
   "metadata": {
    "execution": {
     "iopub.execute_input": "2021-05-11T08:18:20.415652Z",
     "iopub.status.busy": "2021-05-11T08:18:20.414617Z",
     "iopub.status.idle": "2021-05-11T08:18:20.418762Z",
     "shell.execute_reply": "2021-05-11T08:18:20.418166Z"
    },
    "papermill": {
     "duration": 0.060634,
     "end_time": "2021-05-11T08:18:20.418917",
     "exception": false,
     "start_time": "2021-05-11T08:18:20.358283",
     "status": "completed"
    },
    "tags": []
   },
   "outputs": [
    {
     "data": {
      "text/plain": [
       "(418, 10)"
      ]
     },
     "execution_count": 37,
     "metadata": {},
     "output_type": "execute_result"
    }
   ],
   "source": [
    "test.shape"
   ]
  },
  {
   "cell_type": "code",
   "execution_count": 38,
   "id": "elect-exhibition",
   "metadata": {
    "execution": {
     "iopub.execute_input": "2021-05-11T08:18:20.529797Z",
     "iopub.status.busy": "2021-05-11T08:18:20.528837Z",
     "iopub.status.idle": "2021-05-11T08:18:20.533718Z",
     "shell.execute_reply": "2021-05-11T08:18:20.533084Z"
    },
    "papermill": {
     "duration": 0.06192,
     "end_time": "2021-05-11T08:18:20.533883",
     "exception": false,
     "start_time": "2021-05-11T08:18:20.471963",
     "status": "completed"
    },
    "tags": []
   },
   "outputs": [
    {
     "data": {
      "text/plain": [
       "(891, 11)"
      ]
     },
     "execution_count": 38,
     "metadata": {},
     "output_type": "execute_result"
    }
   ],
   "source": [
    "train.shape"
   ]
  },
  {
   "cell_type": "code",
   "execution_count": 39,
   "id": "composite-territory",
   "metadata": {
    "execution": {
     "iopub.execute_input": "2021-05-11T08:18:20.647773Z",
     "iopub.status.busy": "2021-05-11T08:18:20.646951Z",
     "iopub.status.idle": "2021-05-11T08:18:20.651246Z",
     "shell.execute_reply": "2021-05-11T08:18:20.650185Z"
    },
    "papermill": {
     "duration": 0.063842,
     "end_time": "2021-05-11T08:18:20.651418",
     "exception": false,
     "start_time": "2021-05-11T08:18:20.587576",
     "status": "completed"
    },
    "tags": []
   },
   "outputs": [
    {
     "name": "stderr",
     "output_type": "stream",
     "text": [
      "/opt/conda/lib/python3.7/site-packages/ipykernel_launcher.py:1: SettingWithCopyWarning: \n",
      "A value is trying to be set on a copy of a slice from a DataFrame.\n",
      "Try using .loc[row_indexer,col_indexer] = value instead\n",
      "\n",
      "See the caveats in the documentation: https://pandas.pydata.org/pandas-docs/stable/user_guide/indexing.html#returning-a-view-versus-a-copy\n",
      "  \"\"\"Entry point for launching an IPython kernel.\n"
     ]
    }
   ],
   "source": [
    "train[\"Survived\"] = train[\"Survived\"].astype(int)"
   ]
  },
  {
   "cell_type": "code",
   "execution_count": 40,
   "id": "imperial-regression",
   "metadata": {
    "execution": {
     "iopub.execute_input": "2021-05-11T08:18:20.765588Z",
     "iopub.status.busy": "2021-05-11T08:18:20.764324Z",
     "iopub.status.idle": "2021-05-11T08:18:20.768411Z",
     "shell.execute_reply": "2021-05-11T08:18:20.767760Z"
    },
    "papermill": {
     "duration": 0.063274,
     "end_time": "2021-05-11T08:18:20.768549",
     "exception": false,
     "start_time": "2021-05-11T08:18:20.705275",
     "status": "completed"
    },
    "tags": []
   },
   "outputs": [],
   "source": [
    "Y_train = train[\"Survived\"]\n",
    "\n",
    "X_train = train.drop(labels = [\"Survived\"],axis = 1)"
   ]
  },
  {
   "cell_type": "code",
   "execution_count": 41,
   "id": "superior-background",
   "metadata": {
    "execution": {
     "iopub.execute_input": "2021-05-11T08:18:20.880474Z",
     "iopub.status.busy": "2021-05-11T08:18:20.879721Z",
     "iopub.status.idle": "2021-05-11T08:18:21.206782Z",
     "shell.execute_reply": "2021-05-11T08:18:21.207287Z"
    },
    "papermill": {
     "duration": 0.385032,
     "end_time": "2021-05-11T08:18:21.207486",
     "exception": false,
     "start_time": "2021-05-11T08:18:20.822454",
     "status": "completed"
    },
    "tags": []
   },
   "outputs": [],
   "source": [
    "from sklearn.ensemble import GradientBoostingClassifier"
   ]
  },
  {
   "cell_type": "code",
   "execution_count": 42,
   "id": "northern-persian",
   "metadata": {
    "execution": {
     "iopub.execute_input": "2021-05-11T08:18:21.319426Z",
     "iopub.status.busy": "2021-05-11T08:18:21.318776Z",
     "iopub.status.idle": "2021-05-11T08:18:21.322501Z",
     "shell.execute_reply": "2021-05-11T08:18:21.321980Z"
    },
    "papermill": {
     "duration": 0.061702,
     "end_time": "2021-05-11T08:18:21.322635",
     "exception": false,
     "start_time": "2021-05-11T08:18:21.260933",
     "status": "completed"
    },
    "tags": []
   },
   "outputs": [],
   "source": [
    "# Training "
   ]
  },
  {
   "cell_type": "code",
   "execution_count": 43,
   "id": "documentary-mediterranean",
   "metadata": {
    "execution": {
     "iopub.execute_input": "2021-05-11T08:18:21.438590Z",
     "iopub.status.busy": "2021-05-11T08:18:21.437885Z",
     "iopub.status.idle": "2021-05-11T08:18:21.627131Z",
     "shell.execute_reply": "2021-05-11T08:18:21.626444Z"
    },
    "papermill": {
     "duration": 0.251386,
     "end_time": "2021-05-11T08:18:21.627302",
     "exception": false,
     "start_time": "2021-05-11T08:18:21.375916",
     "status": "completed"
    },
    "tags": []
   },
   "outputs": [
    {
     "data": {
      "text/plain": [
       "GradientBoostingClassifier(learning_rate=0.02)"
      ]
     },
     "execution_count": 43,
     "metadata": {},
     "output_type": "execute_result"
    }
   ],
   "source": [
    "#model = GradientBoostingClassifier(learning_rate=0.01,max_depth = 2)\n",
    "model = GradientBoostingClassifier(learning_rate=0.02,max_depth = 3,n_estimators =100)\n",
    "model.fit(X_train, Y_train)"
   ]
  },
  {
   "cell_type": "code",
   "execution_count": 44,
   "id": "authorized-oregon",
   "metadata": {
    "execution": {
     "iopub.execute_input": "2021-05-11T08:18:21.746271Z",
     "iopub.status.busy": "2021-05-11T08:18:21.744345Z",
     "iopub.status.idle": "2021-05-11T08:18:21.752273Z",
     "shell.execute_reply": "2021-05-11T08:18:21.752755Z"
    },
    "papermill": {
     "duration": 0.070825,
     "end_time": "2021-05-11T08:18:21.753078",
     "exception": false,
     "start_time": "2021-05-11T08:18:21.682253",
     "status": "completed"
    },
    "tags": []
   },
   "outputs": [
    {
     "name": "stdout",
     "output_type": "stream",
     "text": [
      "Score: 84.96%\n"
     ]
    }
   ],
   "source": [
    "Score = model.score(X_train, Y_train)\n",
    "print(\"Score: %.2f%%\" % (Score * 100.0))"
   ]
  },
  {
   "cell_type": "markdown",
   "id": "stylish-constitutional",
   "metadata": {
    "papermill": {
     "duration": 0.055349,
     "end_time": "2021-05-11T08:18:21.863531",
     "exception": false,
     "start_time": "2021-05-11T08:18:21.808182",
     "status": "completed"
    },
    "tags": []
   },
   "source": [
    "# Predication"
   ]
  },
  {
   "cell_type": "code",
   "execution_count": 45,
   "id": "facial-boards",
   "metadata": {
    "execution": {
     "iopub.execute_input": "2021-05-11T08:18:21.984773Z",
     "iopub.status.busy": "2021-05-11T08:18:21.984078Z",
     "iopub.status.idle": "2021-05-11T08:18:21.987090Z",
     "shell.execute_reply": "2021-05-11T08:18:21.986472Z"
    },
    "papermill": {
     "duration": 0.067011,
     "end_time": "2021-05-11T08:18:21.987240",
     "exception": false,
     "start_time": "2021-05-11T08:18:21.920229",
     "status": "completed"
    },
    "tags": []
   },
   "outputs": [],
   "source": [
    "predictions = model.predict(test)"
   ]
  },
  {
   "cell_type": "code",
   "execution_count": 46,
   "id": "careful-crack",
   "metadata": {
    "execution": {
     "iopub.execute_input": "2021-05-11T08:18:22.103094Z",
     "iopub.status.busy": "2021-05-11T08:18:22.102358Z",
     "iopub.status.idle": "2021-05-11T08:18:22.105122Z",
     "shell.execute_reply": "2021-05-11T08:18:22.104457Z"
    },
    "papermill": {
     "duration": 0.063579,
     "end_time": "2021-05-11T08:18:22.105277",
     "exception": false,
     "start_time": "2021-05-11T08:18:22.041698",
     "status": "completed"
    },
    "tags": []
   },
   "outputs": [],
   "source": [
    "output = pd.DataFrame({'PassengerId': test_data.PassengerId, 'Survived': predictions})"
   ]
  },
  {
   "cell_type": "markdown",
   "id": "reported-grammar",
   "metadata": {
    "papermill": {
     "duration": 0.055009,
     "end_time": "2021-05-11T08:18:22.215898",
     "exception": false,
     "start_time": "2021-05-11T08:18:22.160889",
     "status": "completed"
    },
    "tags": []
   },
   "source": [
    "# Now Output"
   ]
  },
  {
   "cell_type": "code",
   "execution_count": 47,
   "id": "exposed-russell",
   "metadata": {
    "execution": {
     "iopub.execute_input": "2021-05-11T08:18:22.331136Z",
     "iopub.status.busy": "2021-05-11T08:18:22.330466Z",
     "iopub.status.idle": "2021-05-11T08:18:22.341270Z",
     "shell.execute_reply": "2021-05-11T08:18:22.340605Z"
    },
    "papermill": {
     "duration": 0.071053,
     "end_time": "2021-05-11T08:18:22.341412",
     "exception": false,
     "start_time": "2021-05-11T08:18:22.270359",
     "status": "completed"
    },
    "tags": []
   },
   "outputs": [
    {
     "data": {
      "text/html": [
       "<div>\n",
       "<style scoped>\n",
       "    .dataframe tbody tr th:only-of-type {\n",
       "        vertical-align: middle;\n",
       "    }\n",
       "\n",
       "    .dataframe tbody tr th {\n",
       "        vertical-align: top;\n",
       "    }\n",
       "\n",
       "    .dataframe thead th {\n",
       "        text-align: right;\n",
       "    }\n",
       "</style>\n",
       "<table border=\"1\" class=\"dataframe\">\n",
       "  <thead>\n",
       "    <tr style=\"text-align: right;\">\n",
       "      <th></th>\n",
       "      <th>PassengerId</th>\n",
       "      <th>Survived</th>\n",
       "    </tr>\n",
       "  </thead>\n",
       "  <tbody>\n",
       "    <tr>\n",
       "      <th>0</th>\n",
       "      <td>892</td>\n",
       "      <td>0</td>\n",
       "    </tr>\n",
       "    <tr>\n",
       "      <th>1</th>\n",
       "      <td>893</td>\n",
       "      <td>0</td>\n",
       "    </tr>\n",
       "    <tr>\n",
       "      <th>2</th>\n",
       "      <td>894</td>\n",
       "      <td>0</td>\n",
       "    </tr>\n",
       "    <tr>\n",
       "      <th>3</th>\n",
       "      <td>895</td>\n",
       "      <td>0</td>\n",
       "    </tr>\n",
       "    <tr>\n",
       "      <th>4</th>\n",
       "      <td>896</td>\n",
       "      <td>0</td>\n",
       "    </tr>\n",
       "    <tr>\n",
       "      <th>...</th>\n",
       "      <td>...</td>\n",
       "      <td>...</td>\n",
       "    </tr>\n",
       "    <tr>\n",
       "      <th>413</th>\n",
       "      <td>1305</td>\n",
       "      <td>0</td>\n",
       "    </tr>\n",
       "    <tr>\n",
       "      <th>414</th>\n",
       "      <td>1306</td>\n",
       "      <td>1</td>\n",
       "    </tr>\n",
       "    <tr>\n",
       "      <th>415</th>\n",
       "      <td>1307</td>\n",
       "      <td>0</td>\n",
       "    </tr>\n",
       "    <tr>\n",
       "      <th>416</th>\n",
       "      <td>1308</td>\n",
       "      <td>0</td>\n",
       "    </tr>\n",
       "    <tr>\n",
       "      <th>417</th>\n",
       "      <td>1309</td>\n",
       "      <td>0</td>\n",
       "    </tr>\n",
       "  </tbody>\n",
       "</table>\n",
       "<p>418 rows × 2 columns</p>\n",
       "</div>"
      ],
      "text/plain": [
       "     PassengerId  Survived\n",
       "0            892         0\n",
       "1            893         0\n",
       "2            894         0\n",
       "3            895         0\n",
       "4            896         0\n",
       "..           ...       ...\n",
       "413         1305         0\n",
       "414         1306         1\n",
       "415         1307         0\n",
       "416         1308         0\n",
       "417         1309         0\n",
       "\n",
       "[418 rows x 2 columns]"
      ]
     },
     "execution_count": 47,
     "metadata": {},
     "output_type": "execute_result"
    }
   ],
   "source": [
    "output "
   ]
  },
  {
   "cell_type": "markdown",
   "id": "personal-brunei",
   "metadata": {
    "papermill": {
     "duration": 0.054853,
     "end_time": "2021-05-11T08:18:22.451487",
     "exception": false,
     "start_time": "2021-05-11T08:18:22.396634",
     "status": "completed"
    },
    "tags": []
   },
   "source": [
    "#  Saving submission csv file"
   ]
  },
  {
   "cell_type": "code",
   "execution_count": 48,
   "id": "answering-antigua",
   "metadata": {
    "execution": {
     "iopub.execute_input": "2021-05-11T08:18:22.570474Z",
     "iopub.status.busy": "2021-05-11T08:18:22.569276Z",
     "iopub.status.idle": "2021-05-11T08:18:22.579140Z",
     "shell.execute_reply": "2021-05-11T08:18:22.578433Z"
    },
    "papermill": {
     "duration": 0.071102,
     "end_time": "2021-05-11T08:18:22.579301",
     "exception": false,
     "start_time": "2021-05-11T08:18:22.508199",
     "status": "completed"
    },
    "tags": []
   },
   "outputs": [
    {
     "name": "stdout",
     "output_type": "stream",
     "text": [
      "Your submission was successfully saved!\n"
     ]
    }
   ],
   "source": [
    "output.to_csv('my_submissionAtta.csv', index=False)\n",
    "print(\"Your submission was successfully saved!\")"
   ]
  },
  {
   "cell_type": "markdown",
   "id": "obvious-youth",
   "metadata": {
    "papermill": {
     "duration": 0.055936,
     "end_time": "2021-05-11T08:18:22.692030",
     "exception": false,
     "start_time": "2021-05-11T08:18:22.636094",
     "status": "completed"
    },
    "tags": []
   },
   "source": []
  },
  {
   "cell_type": "code",
   "execution_count": null,
   "id": "controlling-theta",
   "metadata": {
    "papermill": {
     "duration": 0.058358,
     "end_time": "2021-05-11T08:18:22.806932",
     "exception": false,
     "start_time": "2021-05-11T08:18:22.748574",
     "status": "completed"
    },
    "tags": []
   },
   "outputs": [],
   "source": []
  }
 ],
 "metadata": {
  "kernelspec": {
   "display_name": "Python 3",
   "language": "python",
   "name": "python3"
  },
  "language_info": {
   "codemirror_mode": {
    "name": "ipython",
    "version": 3
   },
   "file_extension": ".py",
   "mimetype": "text/x-python",
   "name": "python",
   "nbconvert_exporter": "python",
   "pygments_lexer": "ipython3",
   "version": "3.7.10"
  },
  "papermill": {
   "default_parameters": {},
   "duration": 24.950184,
   "end_time": "2021-05-11T08:18:24.483778",
   "environment_variables": {},
   "exception": null,
   "input_path": "__notebook__.ipynb",
   "output_path": "__notebook__.ipynb",
   "parameters": {},
   "start_time": "2021-05-11T08:17:59.533594",
   "version": "2.3.3"
  }
 },
 "nbformat": 4,
 "nbformat_minor": 5
}
